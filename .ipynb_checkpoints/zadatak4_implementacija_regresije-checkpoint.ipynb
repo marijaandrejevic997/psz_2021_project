{
 "cells": [
  {
   "cell_type": "code",
   "execution_count": 2,
   "metadata": {},
   "outputs": [],
   "source": [
    "#pip install geopy\n",
    "import psycopg2\n",
    "import pandas as pd\n",
    "import geopy.distance\n",
    "from geopy.geocoders import Nominatim"
   ]
  },
  {
   "cell_type": "code",
   "execution_count": 1,
   "metadata": {},
   "outputs": [],
   "source": [
    "\n",
    "\n",
    "def distanca_od_centra_km(lokacija):\n",
    "    geolocator = Nominatim(user_agent=\"MOJ_APP\")\n",
    "    #koordinate centra\n",
    "    location = geolocator.geocode(\"Kneza Mihaila Beograd\")\n",
    "    coords_centar = (location.latitude, location.longitude)\n",
    "    print(coords_centar)\n",
    "    #koordinate lokacija\n",
    "    location = geolocator.geocode(lokacija)\n",
    "    if location != None:\n",
    "        coords_lokacija = (location.latitude, location.longitude)\n",
    "        print(coords_lokacija)\n",
    "        distanca = geopy.distance.distance(coords_lokacija, coords_centar).km\n",
    "        print(distanca)\n",
    "        return distanca\n",
    "    else:\n",
    "        return None"
   ]
  },
  {
   "cell_type": "code",
   "execution_count": 12,
   "metadata": {
    "scrolled": true
   },
   "outputs": [
    {
     "name": "stdout",
     "output_type": "stream",
     "text": [
      "      broj_soba  kvadratura_m2  ukupan_broj_spratova              lokacija\n",
      "0           NaN            NaN                   5.0              Voždovac\n",
      "1           4.0           90.0                   5.0              Voždovac\n",
      "2           3.0           74.0                   5.0              Voždovac\n",
      "3           3.0           63.0                   5.0              Voždovac\n",
      "4           2.0           53.0                   5.0              Voždovac\n",
      "...         ...            ...                   ...                   ...\n",
      "6591        4.0           69.0                   2.0        Vukov spomenik\n",
      "6592        NaN          160.0                   NaN           Banovo brdo\n",
      "6593        2.0           67.0                   NaN   Terazije ( centar )\n",
      "6594        2.0           67.0                   NaN  Novi Beograd Blok 37\n",
      "6595        1.0           35.0                   4.0                Ledine\n",
      "\n",
      "[6596 rows x 4 columns]\n",
      "0            NaN\n",
      "1       225000.0\n",
      "2       162800.0\n",
      "3       138600.0\n",
      "4       116600.0\n",
      "          ...   \n",
      "6591    165000.0\n",
      "6592    500000.0\n",
      "6593    146000.0\n",
      "6594    118000.0\n",
      "6595         NaN\n",
      "Name: cena_eur, Length: 6596, dtype: float64\n",
      "0       https://www.nekretnine.rs/stambeni-objekti/sta...\n",
      "1       https://www.nekretnine.rs/stambeni-objekti/sta...\n",
      "2       https://www.nekretnine.rs/stambeni-objekti/sta...\n",
      "3       https://www.nekretnine.rs/stambeni-objekti/sta...\n",
      "4       https://www.nekretnine.rs/stambeni-objekti/sta...\n",
      "                              ...                        \n",
      "6591    https://www.nekretnine.rs/stambeni-objekti/sta...\n",
      "6592    https://www.nekretnine.rs/stambeni-objekti/sta...\n",
      "6593    https://www.nekretnine.rs/stambeni-objekti/sta...\n",
      "6594    https://www.nekretnine.rs/stambeni-objekti/sta...\n",
      "6595    https://www.nekretnine.rs/stambeni-objekti/sta...\n",
      "Name: url, Length: 6596, dtype: object\n"
     ]
    }
   ],
   "source": [
    "#izdvojiti samo stanove koji se prodaju u Beogradu\n",
    "x = []\n",
    "y = []\n",
    "try:\n",
    "        conn = psycopg2.connect(database='nekretnine_database', user='postgres', password = '1234', host='localhost', port=5432)\n",
    "        cursor = conn.cursor()\n",
    "        \n",
    "        stanovi_Beograd = \"select * from nekretnine_info where kategorija = 'stan' and grad = 'Beograd' and transakcija = 'Prodaja'\"\n",
    "        cursor.execute(stanovi_Beograd)\n",
    "        \n",
    "        records = cursor.fetchall()\n",
    "        col_names = []\n",
    "        for elt in cursor.description:\n",
    "            col_names.append(elt[0])\n",
    "        df = pd.DataFrame(records, columns=col_names)\n",
    "        \n",
    "        x = df[['broj_soba', 'kvadratura_m2', 'ukupan_broj_spratova', 'lokacija']]\n",
    "        print(x)\n",
    "        \n",
    "        y = df['cena_eur']\n",
    "        print(y)\n",
    "        \n",
    "        print(df['url'])\n",
    "        \n",
    "        #odradili jednom i sacuvali u csv za svaki red primenili distanca_od_centra_km\n",
    "        #x['udaljenost'] = x.apply(lambda row : distanca_od_centra_km(row['lokacija']), axis = 1)\n",
    "        #print(x)\n",
    "except (Exception, psycopg2.Error) as error:\n",
    "        print(\"Neuspesno citanje iz baze\", error)\n",
    "finally:\n",
    "        if conn:\n",
    "            cursor.close()\n",
    "            conn.close()"
   ]
  },
  {
   "cell_type": "code",
   "execution_count": 3,
   "metadata": {},
   "outputs": [
    {
     "name": "stdout",
     "output_type": "stream",
     "text": [
      "      broj_soba  kvadratura_m2  ukupan_broj_spratova              lokacija  \\\n",
      "0           NaN            NaN                   5.0              Voždovac   \n",
      "1           4.0           90.0                   5.0              Voždovac   \n",
      "2           3.0           74.0                   5.0              Voždovac   \n",
      "3           3.0           63.0                   5.0              Voždovac   \n",
      "4           2.0           53.0                   5.0              Voždovac   \n",
      "...         ...            ...                   ...                   ...   \n",
      "6591        4.0           69.0                   2.0        Vukov spomenik   \n",
      "6592        NaN          160.0                   NaN           Banovo brdo   \n",
      "6593        2.0           67.0                   NaN   Terazije ( centar )   \n",
      "6594        2.0           67.0                   NaN  Novi Beograd Blok 37   \n",
      "6595        1.0           35.0                   4.0                Ledine   \n",
      "\n",
      "      udaljenost  \n",
      "0       6.646861  \n",
      "1       6.646861  \n",
      "2       6.646861  \n",
      "3       6.646861  \n",
      "4       6.646861  \n",
      "...          ...  \n",
      "6591    2.163094  \n",
      "6592    5.536299  \n",
      "6593  118.108318  \n",
      "6594    4.401868  \n",
      "6595  518.971179  \n",
      "\n",
      "[6596 rows x 5 columns]\n"
     ]
    }
   ],
   "source": [
    "print(x)\n",
    "x.to_csv(\"with_distance.csv\")\n"
   ]
  },
  {
   "cell_type": "code",
   "execution_count": 6,
   "metadata": {},
   "outputs": [
    {
     "name": "stdout",
     "output_type": "stream",
     "text": [
      "      Unnamed: 0  broj_soba  kvadratura_m2  ukupan_broj_spratova  \\\n",
      "0              0        NaN            NaN                   5.0   \n",
      "1              1        4.0           90.0                   5.0   \n",
      "2              2        3.0           74.0                   5.0   \n",
      "3              3        3.0           63.0                   5.0   \n",
      "4              4        2.0           53.0                   5.0   \n",
      "...          ...        ...            ...                   ...   \n",
      "6591        6591        4.0           69.0                   2.0   \n",
      "6592        6592        NaN          160.0                   NaN   \n",
      "6593        6593        2.0           67.0                   NaN   \n",
      "6594        6594        2.0           67.0                   NaN   \n",
      "6595        6595        1.0           35.0                   4.0   \n",
      "\n",
      "                  lokacija  udaljenost  \n",
      "0                 Voždovac    6.646861  \n",
      "1                 Voždovac    6.646861  \n",
      "2                 Voždovac    6.646861  \n",
      "3                 Voždovac    6.646861  \n",
      "4                 Voždovac    6.646861  \n",
      "...                    ...         ...  \n",
      "6591        Vukov spomenik    2.163094  \n",
      "6592           Banovo brdo    5.536299  \n",
      "6593   Terazije ( centar )  118.108318  \n",
      "6594  Novi Beograd Blok 37    4.401868  \n",
      "6595                Ledine  518.971179  \n",
      "\n",
      "[6596 rows x 6 columns]\n",
      "      Unnamed: 0  broj_soba  kvadratura_m2  ukupan_broj_spratova  \\\n",
      "1              1        4.0           90.0                   5.0   \n",
      "2              2        3.0           74.0                   5.0   \n",
      "3              3        3.0           63.0                   5.0   \n",
      "4              4        2.0           53.0                   5.0   \n",
      "5              5        5.0          120.0                   5.0   \n",
      "...          ...        ...            ...                   ...   \n",
      "6581        6581        5.0          173.0                   9.0   \n",
      "6587        6587        5.0          111.0                  18.0   \n",
      "6588        6588        2.0           63.0                   5.0   \n",
      "6591        6591        4.0           69.0                   2.0   \n",
      "6595        6595        1.0           35.0                   4.0   \n",
      "\n",
      "                  lokacija  udaljenost  \n",
      "1                 Voždovac    6.646861  \n",
      "2                 Voždovac    6.646861  \n",
      "3                 Voždovac    6.646861  \n",
      "4                 Voždovac    6.646861  \n",
      "5                 Voždovac    6.646861  \n",
      "...                    ...         ...  \n",
      "6581         Južni bulevar    3.028101  \n",
      "6587          Novi Beograd    3.326047  \n",
      "6588  Novi Beograd Blok 65    4.666141  \n",
      "6591        Vukov spomenik    2.163094  \n",
      "6595                Ledine  518.971179  \n",
      "\n",
      "[326 rows x 6 columns]\n"
     ]
    }
   ],
   "source": [
    "input_values = pd.read_csv(\"with_distance.csv\") \n",
    "print(input_values)\n",
    "\n",
    "input_values_no_null = input_values.dropna()\n",
    "print(input_values_no_null)\n",
    "input_values_no_null.to_csv(\"with_distance_no_null.csv\")"
   ]
  },
  {
   "cell_type": "code",
   "execution_count": null,
   "metadata": {},
   "outputs": [],
   "source": []
  }
 ],
 "metadata": {
  "kernelspec": {
   "display_name": "Python 3",
   "language": "python",
   "name": "python3"
  },
  "language_info": {
   "codemirror_mode": {
    "name": "ipython",
    "version": 3
   },
   "file_extension": ".py",
   "mimetype": "text/x-python",
   "name": "python",
   "nbconvert_exporter": "python",
   "pygments_lexer": "ipython3",
   "version": "3.8.5"
  }
 },
 "nbformat": 4,
 "nbformat_minor": 4
}
